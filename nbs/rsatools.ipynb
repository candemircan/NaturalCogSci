{
 "cells": [
  {
   "attachments": {},
   "cell_type": "markdown",
   "metadata": {},
   "source": [
    "## RSA Tools\n",
    "\n",
    "> Functions for representational similarity analyses"
   ]
  },
  {
   "cell_type": "code",
   "execution_count": null,
   "metadata": {},
   "outputs": [],
   "source": [
    "#| default_exp rsatools"
   ]
  },
  {
   "cell_type": "code",
   "execution_count": null,
   "metadata": {},
   "outputs": [],
   "source": [
    "#| exports\n",
    "#| code-fold: false\n",
    "import numpy as np\n",
    "\n",
    "from NaturalCogSci.helpers import get_project_root"
   ]
  },
  {
   "cell_type": "code",
   "execution_count": null,
   "metadata": {},
   "outputs": [],
   "source": [
    "#| exports\n",
    "\n",
    "def cka(X: np.ndarray, # Representations of the first set of samples.\n",
    "        Y:np.ndarray # Representations of the second set of samples.\n",
    "        ) -> float: # The linear CKA between X and Y.\n",
    "    \"\"\"\n",
    "    Compute the linear CKA between two matrices X and Y.\n",
    "\n",
    "    [link to the paper](https://arxiv.org/abs/1905.00414)\n",
    "\n",
    "    taken from Patrick Mineault's implementation of CKA as is.\n",
    "\n",
    "    [link to original implementation](https://goodresearch.dev/cka.html)\n",
    "\n",
    "    Matrices should be observations by features.\n",
    "\n",
    "    \"\"\"\n",
    "    # Implements linear CKA as in Kornblith et al. (2019)\n",
    "    X = X.copy()\n",
    "    Y = Y.copy()\n",
    "\n",
    "    # Center X and Y\n",
    "    X -= X.mean(axis=0)\n",
    "    Y -= Y.mean(axis=0)\n",
    "\n",
    "    # Calculate CKA\n",
    "    XTX = X.T.dot(X)\n",
    "    YTY = Y.T.dot(Y)\n",
    "    YTX = Y.T.dot(X)\n",
    "\n",
    "    return (YTX ** 2).sum() / np.sqrt((XTX ** 2).sum() * (YTY ** 2).sum())"
   ]
  },
  {
   "attachments": {},
   "cell_type": "markdown",
   "metadata": {},
   "source": []
  },
  {
   "attachments": {},
   "cell_type": "markdown",
   "metadata": {},
   "source": []
  }
 ],
 "metadata": {
  "kernelspec": {
   "display_name": "python3",
   "language": "python",
   "name": "python3"
  }
 },
 "nbformat": 4,
 "nbformat_minor": 2
}
