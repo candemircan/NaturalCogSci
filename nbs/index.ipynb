{
 "cells": [
  {
   "attachments": {},
   "cell_type": "markdown",
   "metadata": {},
   "source": [
    "##  Read Me!\n",
    "\n",
    "> Code for the project \"Language Aligned Visual Representations Predict Human Behavior in Naturalistic Learning Tasks\""
   ]
  },
  {
   "attachments": {},
   "cell_type": "markdown",
   "metadata": {},
   "source": [
    "### Abstract\n",
    "\n",
    "> Humans possess the ability to identify and generalize relevant features of natural objects, which aids them in various situations. To investigate this phenomenon and determine the most effective representations for predicting human behavior, we conducted two experiments involving category learning and reward learning. Our experiments used realistic images as stimuli, and participants were tasked with making accurate decisions based on novel stimuli for all trials, thereby necessitating generalization. In both tasks, the underlying rules were generated as simple linear functions using stimulus dimensions extracted from human similarity judgments. Notably, participants successfully identified the relevant stimulus features within a few trials, demonstrating effective generalization. We performed an extensive model comparison, evaluating the trial-by-trial predictive accuracy of diverse deep learning models' representations of human choices. Intriguingly, representations from models trained on both text and image data consistently outperformed models trained solely on images, occasionally even surpassing models using the features that generated the task itself. These findings suggest that language-aligned visual representations possess sufficient richness to describe human generalization in naturalistic settings and emphasize the role of language in shaping human cognition."
   ]
  },
  {
   "attachments": {},
   "cell_type": "markdown",
   "metadata": {},
   "source": [
    "![](./task_designs.png){fig-align=\"center\" width=\"100%\"}"
   ]
  },
  {
   "attachments": {},
   "cell_type": "markdown",
   "metadata": {},
   "source": [
    "## Setup\n",
    "\n",
    "I ran the analyses on a cluster system that used a SLURM job scheduler and a singularity image. Therefore the bash and slurm scripts are specific to that system. However, the singularity image is available on dockerhub and can be run locally using the following command:\n",
    "\n",
    "```bash\n",
    "docker pull candemircan/naturalcogsci:latest\n",
    "```\n",
    "\n",
    "If you want to use the singularity image, you can pull it as follows\n",
    "\n",
    "```bash\n",
    "singularity pull NaturalCogSci.sif docker://candemircan/naturalcogsci:latest\n",
    "```\n",
    "\n",
    "If you do not want to use containers, you can install the Python dependencies as follows:\n",
    "    \n",
    "```bash\n",
    "git clone https://github.com/candemircan/NaturalCogSci.git\n",
    "cd NaturalCogSci\n",
    "pip install -r requirements.txt\n",
    "pip install -e .\n",
    "```\n",
    "\n",
    "For the versions of R dependencies, you can see the `DOCKERFILE`\n"
   ]
  },
  {
   "attachments": {},
   "cell_type": "markdown",
   "metadata": {},
   "source": [
    "## Environment Variables\n",
    "\n",
    "The code uses the environment variable `NATURALCOGSCI_ROOT` to determine the root directory of the project. You can set this variable in your `.bashrc` file (or whatever your shell rc file might be) as follows:\n",
    "\n",
    "```bash\n",
    "export NATURALCOGSCI_ROOT=/path/to/NaturalCogSci\n",
    "```\n",
    "\n",
    "For me, R could not read this variable from the shell, so I had to set it in the `~/.Renviron` file as well"
   ]
  },
  {
   "attachments": {},
   "cell_type": "markdown",
   "metadata": {},
   "source": [
    "## Experiments\n",
    "\n",
    "Both experiments are shared under the `experiments` folder. See the `README.md` files in the respective folders for more information."
   ]
  },
  {
   "attachments": {},
   "cell_type": "markdown",
   "metadata": {},
   "source": [
    "## Data\n",
    "\n",
    "The data is shared under the `data` folder, which is linked to an OSF repository. All the behavioural (anaonymised) and modelling data can be found there."
   ]
  }
 ],
 "metadata": {
  "kernelspec": {
   "display_name": "python3",
   "language": "python",
   "name": "python3"
  }
 },
 "nbformat": 4,
 "nbformat_minor": 4
}
